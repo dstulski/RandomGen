{
 "cells": [
  {
   "cell_type": "code",
   "execution_count": 15,
   "metadata": {},
   "outputs": [],
   "source": [
    "import random\n",
    "import xlsxwriter\n",
    "import numpy as np\n",
    "import matplotlib.pyplot as plt"
   ]
  },
  {
   "cell_type": "code",
   "execution_count": 16,
   "metadata": {
    "scrolled": true
   },
   "outputs": [],
   "source": [
    "workbook = xlsxwriter.Workbook('RandomGen.xlsx')\n",
    "rand_ws = workbook.add_worksheet('.random')\n",
    "uniform_ws = workbook.add_worksheet('.uniform')\n",
    "triang_ws = workbook.add_worksheet('.triangular')\n",
    "bv_ws = workbook.add_worksheet('.betavariate')\n",
    "pareto_ws = workbook.add_worksheet('.paretovariate')\n",
    "sysrand_ws = workbook.add_worksheet('.SystemRandom')\n",
    "\n",
    "rand_ws.write(0, 0, 'Trial #')\n",
    "rand_ws.write(0, 1, 'Generated #')\n",
    "uniform_ws.write(0, 0, 'Trial #')\n",
    "uniform_ws.write(0, 1, 'Generated #')\n",
    "triang_ws.write(0, 0, 'Trial #')\n",
    "triang_ws.write(0, 1, 'Generated #')\n",
    "bv_ws.write(0, 0, 'Trial #')\n",
    "bv_ws.write(0, 1, 'Generated #')\n",
    "pareto_ws.write(0, 0, 'Trial #')\n",
    "pareto_ws.write(0, 1, 'Generated #')\n",
    "sysrand_ws.write(0, 0, 'Trial #')\n",
    "sysrand_ws.write(0, 1, 'Generated #')\n",
    "\n",
    "rand_list = []\n",
    "uniform_list = []\n",
    "triang_list = []\n",
    "bv_list = []\n",
    "pareto_list = []\n",
    "sysrand_list = []\n",
    "rand_means = []"
   ]
  },
  {
   "cell_type": "code",
   "execution_count": 17,
   "metadata": {},
   "outputs": [],
   "source": [
    "random.seed(338)\n",
    "\n",
    "for i in range(1000):\n",
    "    rand_num = random.random()\n",
    "    rand_list.append(rand_num)\n",
    "    \n",
    "    uniform_num = random.uniform(0,1)\n",
    "    uniform_list.append(uniform_num)\n",
    "    \n",
    "    triang_num = random.triangular()\n",
    "    triang_list.append(triang_num)\n",
    "    \n",
    "    bv_num = random.betavariate(5,10)\n",
    "    bv_list.append(bv_num)\n",
    "    \n",
    "    pareto_num = random.paretovariate(1)\n",
    "    pareto_list.append(pareto_num)\n",
    "    \n",
    "    rng = random.SystemRandom()   \n",
    "    sysrand_num = rng.random()\n",
    "    sysrand_list.append(sysrand_num)"
   ]
  },
  {
   "cell_type": "code",
   "execution_count": 18,
   "metadata": {},
   "outputs": [],
   "source": [
    "row = 1\n",
    "col = 0\n",
    "\n",
    "for trial, value in enumerate(rand_list, 1):\n",
    "    rand_ws.write(row, col, trial)\n",
    "    rand_ws.write(row, col + 1, value)\n",
    "    row += 1\n",
    "    \n",
    "rand_chart = workbook.add_chart({'type': 'column'})\n",
    "rand_chart.add_series({'values': '=.random!$B$2:$B$1001'})\n",
    "rand_ws.insert_chart('D1', rand_chart)"
   ]
  },
  {
   "cell_type": "code",
   "execution_count": 19,
   "metadata": {},
   "outputs": [],
   "source": [
    "row = 1\n",
    "col = 0\n",
    "\n",
    "for trial, value in enumerate(uniform_list, 1):\n",
    "    uniform_ws.write(row, col, trial)\n",
    "    uniform_ws.write(row, col + 1, value)\n",
    "    row += 1\n",
    "    \n",
    "uniform_chart = workbook.add_chart({'type': 'column'})\n",
    "uniform_chart.add_series({'values': '=.uniform!$B$2:$B$1001'})\n",
    "uniform_ws.insert_chart('D1', uniform_chart)"
   ]
  },
  {
   "cell_type": "code",
   "execution_count": 20,
   "metadata": {},
   "outputs": [],
   "source": [
    "row = 1\n",
    "col = 0\n",
    "\n",
    "for trial, value in enumerate(triang_list, 1):\n",
    "    triang_ws.write(row, col, trial)\n",
    "    triang_ws.write(row, col + 1, value)\n",
    "    row += 1\n",
    "    \n",
    "triang_chart = workbook.add_chart({'type': 'column'})\n",
    "triang_chart.add_series({'values': '=.triangular!$B$2:$B$1001'})\n",
    "triang_ws.insert_chart('D1', triang_chart)"
   ]
  },
  {
   "cell_type": "code",
   "execution_count": 21,
   "metadata": {},
   "outputs": [],
   "source": [
    "row = 1\n",
    "col = 0\n",
    "\n",
    "for trial, value in enumerate(bv_list, 1):\n",
    "    bv_ws.write(row, col, trial)\n",
    "    bv_ws.write(row, col + 1, value)\n",
    "    row += 1\n",
    "    \n",
    "bv_chart = workbook.add_chart({'type': 'column'})\n",
    "bv_chart.add_series({'values': '=.betavariate!$B$2:$B$1001'})\n",
    "bv_ws.insert_chart('D1', bv_chart)"
   ]
  },
  {
   "cell_type": "code",
   "execution_count": 22,
   "metadata": {},
   "outputs": [],
   "source": [
    "row = 1\n",
    "col = 0\n",
    "\n",
    "for trial, value in enumerate(pareto_list, 1):\n",
    "    pareto_ws.write(row, col, trial)\n",
    "    pareto_ws.write(row, col + 1, value)\n",
    "    row += 1\n",
    "    \n",
    "pareto_chart = workbook.add_chart({'type': 'column'})\n",
    "pareto_chart.add_series({'values': '=.paretovariate!$B$2:$B$1001'})\n",
    "pareto_ws.insert_chart('D1', pareto_chart)"
   ]
  },
  {
   "cell_type": "code",
   "execution_count": 23,
   "metadata": {},
   "outputs": [],
   "source": [
    "row = 1\n",
    "col = 0\n",
    "\n",
    "for trial, value in enumerate(sysrand_list, 1):\n",
    "    sysrand_ws.write(row, col, trial)\n",
    "    sysrand_ws.write(row, col + 1, value)\n",
    "    row += 1\n",
    "    \n",
    "sysrand_chart = workbook.add_chart({'type': 'column'})\n",
    "sysrand_chart.add_series({'values': '=.SystemRandom!$B$2:$B$1001'})\n",
    "sysrand_ws.insert_chart('D1', sysrand_chart)"
   ]
  },
  {
   "cell_type": "code",
   "execution_count": 24,
   "metadata": {},
   "outputs": [
    {
     "name": "stdout",
     "output_type": "stream",
     "text": [
      ".random mean: 0.49751099990631015\n",
      ".uniform mean: 0.49547909444320776\n",
      ".triangular mean: 0.5077327170162143\n",
      ".betavariate mean: 0.33038129051134285\n",
      ".paretovariate mean: 15.50054933952563\n",
      ".SystemRandom mean: 0.4994635095514743\n"
     ]
    }
   ],
   "source": [
    "print('.random mean:' , np.mean(rand_list))\n",
    "print('.uniform mean:' , np.mean(uniform_list))\n",
    "print('.triangular mean:' , np.mean(triang_list))\n",
    "print('.betavariate mean:' , np.mean(bv_list))\n",
    "print('.paretovariate mean:' , np.mean(pareto_list))\n",
    "print('.SystemRandom mean:' , np.mean(sysrand_list))"
   ]
  },
  {
   "cell_type": "code",
   "execution_count": 25,
   "metadata": {},
   "outputs": [],
   "source": [
    "rand_means = []\n",
    "uniform_means = []\n",
    "triang_means = []\n",
    "bv_means = []\n",
    "pareto_means = []\n",
    "sysrand_means = []\n",
    "\n",
    "for ii in range(1000):\n",
    "    rand_sample = np.random.choice(rand_list, size = int(0.25 * len(rand_list)), replace=False)\n",
    "    rand_means.append(np.mean(rand_sample))\n",
    "    \n",
    "    uniform_sample = np.random.choice(uniform_list, size = int(0.25 * len(uniform_list)), replace=False)\n",
    "    uniform_means.append(np.mean(uniform_sample))\n",
    "    \n",
    "    triang_sample = np.random.choice(triang_list, size = int(0.25 * len(triang_list)), replace=False)\n",
    "    triang_means.append(np.mean(triang_sample))\n",
    "    \n",
    "    bv_sample = np.random.choice(bv_list, size = int(0.25 * len(bv_list)), replace=False)\n",
    "    bv_means.append(np.mean(bv_sample))\n",
    "    \n",
    "    pareto_sample = np.random.choice(pareto_list, size = int(0.25 * len(pareto_list)), replace=False)\n",
    "    pareto_means.append(np.mean(pareto_sample))\n",
    "    \n",
    "    sysrand_sample = np.random.choice(sysrand_list, size = int(0.25 * len(sysrand_list)), replace=False)\n",
    "    sysrand_means.append(np.mean(sysrand_sample))"
   ]
  },
  {
   "cell_type": "code",
   "execution_count": 26,
   "metadata": {},
   "outputs": [
    {
     "data": {
      "image/png": "[encoded data removed]",
      "text/plain": [
       "<Figure size 432x288 with 1 Axes>"
      ]
     },
     "metadata": {
      "needs_background": "light"
     },
     "output_type": "display_data"
    },
    {
     "name": "stdout",
     "output_type": "stream",
     "text": [
      ".random mean: 0.49786979579845037\n"
     ]
    }
   ],
   "source": [
    "plt.hist(rand_means)\n",
    "plt.show()\n",
    "print('.random mean:', np.mean(rand_means))"
   ]
  },
  {
   "cell_type": "code",
   "execution_count": 27,
   "metadata": {},
   "outputs": [
    {
     "data": {
      "image/png": "[encoded data removed]",
      "text/plain": [
       "<Figure size 432x288 with 1 Axes>"
      ]
     },
     "metadata": {
      "needs_background": "light"
     },
     "output_type": "display_data"
    },
    {
     "name": "stdout",
     "output_type": "stream",
     "text": [
      ".uniform mean: 0.4954330092959392\n"
     ]
    }
   ],
   "source": [
    "plt.hist(uniform_means)\n",
    "plt.show()\n",
    "print('.uniform mean:', np.mean(uniform_means))"
   ]
  },
  {
   "cell_type": "code",
   "execution_count": 28,
   "metadata": {},
   "outputs": [
    {
     "data": {
      "image/png": "[encoded data removed]",
      "text/plain": [
       "<Figure size 432x288 with 1 Axes>"
      ]
     },
     "metadata": {
      "needs_background": "light"
     },
     "output_type": "display_data"
    },
    {
     "name": "stdout",
     "output_type": "stream",
     "text": [
      ".triangular mean: 0.4954330092959392\n"
     ]
    }
   ],
   "source": [
    "plt.hist(triang_means)\n",
    "plt.show()\n",
    "print('.triangular mean:', np.mean(uniform_means))"
   ]
  },
  {
   "cell_type": "code",
   "execution_count": 29,
   "metadata": {},
   "outputs": [
    {
     "data": {
      "image/png": "[encoded data removed]",
      "text/plain": [
       "<Figure size 432x288 with 1 Axes>"
      ]
     },
     "metadata": {
      "needs_background": "light"
     },
     "output_type": "display_data"
    },
    {
     "name": "stdout",
     "output_type": "stream",
     "text": [
      ".paretovariate mean: 14.949443636617143\n"
     ]
    }
   ],
   "source": [
    "plt.hist(pareto_means)\n",
    "plt.show()\n",
    "print('.paretovariate mean:', np.mean(pareto_means))"
   ]
  },
  {
   "cell_type": "code",
   "execution_count": 30,
   "metadata": {},
   "outputs": [
    {
     "data": {
      "image/png": "[encoded data removed]",
      "text/plain": [
       "<Figure size 432x288 with 1 Axes>"
      ]
     },
     "metadata": {
      "needs_background": "light"
     },
     "output_type": "display_data"
    },
    {
     "name": "stdout",
     "output_type": "stream",
     "text": [
      ".SystemRandom mean: 0.4997632498849381\n"
     ]
    }
   ],
   "source": [
    "plt.hist(triang_means)\n",
    "plt.show()\n",
    "print('.SystemRandom mean:', np.mean(sysrand_means))"
   ]
  },
  {
   "cell_type": "code",
   "execution_count": null,
   "metadata": {},
   "outputs": [],
   "source": []
  },
  {
   "cell_type": "code",
   "execution_count": 31,
   "metadata": {},
   "outputs": [],
   "source": [
    "workbook.close()"
   ]
  }
 ],
 "metadata": {
  "kernelspec": {
   "display_name": "Python 3",
   "language": "python",
   "name": "python3"
  },
  "language_info": {
   "codemirror_mode": {
    "name": "ipython",
    "version": 3
   },
   "file_extension": ".py",
   "mimetype": "text/x-python",
   "name": "python",
   "nbconvert_exporter": "python",
   "pygments_lexer": "ipython3",
   "version": "3.8.3"
  }
 },
 "nbformat": 4,
 "nbformat_minor": 4
}
