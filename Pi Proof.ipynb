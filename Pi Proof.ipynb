{
 "cells": [
  {
   "cell_type": "code",
   "execution_count": 32,
   "metadata": {},
   "outputs": [],
   "source": [
    "import numpy as np\n",
    "import random\n",
    "import matplotlib as plt\n",
    "import itertools\n",
    "import xlsxwriter"
   ]
  },
  {
   "cell_type": "code",
   "execution_count": 33,
   "metadata": {},
   "outputs": [
    {
     "data": {
      "text/plain": [
       "0"
      ]
     },
     "execution_count": 33,
     "metadata": {},
     "output_type": "execute_result"
    }
   ],
   "source": [
    "workbook = xlsxwriter.Workbook('PiProof.xlsx')\n",
    "pi_ws = workbook.add_worksheet('PiValues')\n",
    "\n",
    "pi_ws.write(0, 0, 'Trial #')\n",
    "pi_ws.write(0, 1, 'Pi Value')"
   ]
  },
  {
   "cell_type": "code",
   "execution_count": 34,
   "metadata": {},
   "outputs": [
    {
     "name": "stdout",
     "output_type": "stream",
     "text": [
      "Mean Value: 3.141956\n"
     ]
    }
   ],
   "source": [
    "# finds value of pi using Monte Carlo method over 1000 trials\n",
    "\n",
    "trials = 1000\n",
    "pi_vals = []\n",
    "\n",
    "for i in range(trials):\n",
    "    x = []\n",
    "    y = []\n",
    "    N_total = 1000 # corresponds to the number of points \n",
    "    N_in = 0\n",
    "    \n",
    "    for ii in range(N_total):\n",
    "        x_num = random.uniform(0,1)\n",
    "        y_num = random.uniform(0,1)\n",
    "\n",
    "        x_transform = -1 + (1-(-1)) * x_num\n",
    "        y_transform = -1 + (1-(-1)) * y_num\n",
    "        radius = np.sqrt(x_transform ** 2 + y_transform ** 2)\n",
    "\n",
    "        if radius < 1:\n",
    "            x.append(x_transform)\n",
    "            y.append(y_transform)\n",
    "            N_in += 1\n",
    "\n",
    "    value = N_in / N_total\n",
    "    pi_val = value * 4\n",
    "    pi_vals.append(pi_val)\n",
    "    \n",
    "print('Mean Value:', np.mean(pi_vals))"
   ]
  },
  {
   "cell_type": "code",
   "execution_count": 35,
   "metadata": {},
   "outputs": [],
   "source": [
    "row = 1\n",
    "col = 0\n",
    "\n",
    "for trial, value in enumerate(pi_vals, 1):\n",
    "    pi_ws.write(row, col, trial)\n",
    "    pi_ws.write(row, col + 1, value)\n",
    "    row += 1\n",
    "    \n",
    "pi_chart = workbook.add_chart({'type': 'column'})\n",
    "pi_chart.add_series({'values': '=PiValues!$B$2:$B$1001'})\n",
    "pi_ws.insert_chart('D1', pi_chart)"
   ]
  },
  {
   "cell_type": "code",
   "execution_count": 36,
   "metadata": {},
   "outputs": [],
   "source": [
    "workbook.close()"
   ]
  }
 ],
 "metadata": {
  "kernelspec": {
   "display_name": "Python 3",
   "language": "python",
   "name": "python3"
  },
  "language_info": {
   "codemirror_mode": {
    "name": "ipython",
    "version": 3
   },
   "file_extension": ".py",
   "mimetype": "text/x-python",
   "name": "python",
   "nbconvert_exporter": "python",
   "pygments_lexer": "ipython3",
   "version": "3.8.3"
  }
 },
 "nbformat": 4,
 "nbformat_minor": 4
}
